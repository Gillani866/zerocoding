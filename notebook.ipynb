{
 "cells": [
  {
   "cell_type": "code",
   "execution_count": 3,
   "id": "ea86f1f3",
   "metadata": {},
   "outputs": [
    {
     "ename": "IndentationError",
     "evalue": "expected an indented block after function definition on line 1 (581599623.py, line 2)",
     "output_type": "error",
     "traceback": [
      "  \u001b[36mCell\u001b[39m\u001b[36m \u001b[39m\u001b[32mIn[3]\u001b[39m\u001b[32m, line 2\u001b[39m\n\u001b[31m    \u001b[39m\u001b[31m\"\"\"Greets a person with a customizable greetin\"\"\"\u001b[39m\n    ^\n\u001b[31mIndentationError\u001b[39m\u001b[31m:\u001b[39m expected an indented block after function definition on line 1\n"
     ]
    }
   ],
   "source": [
    "def greet(name='atif', greeting=\"Hello\"):\n",
    "\"\"\"Greets a person with a customizable greetin\"\"\"\n",
    "print(greeting, name)\n",
    "#cakkubg the fubctuion wutg and witout providing tge greeting argunet \n",
    "greet(\"Alice\")\n",
    "greet()"
   ]
  },
  {
   "cell_type": "code",
   "execution_count": 11,
   "id": "e90c980e",
   "metadata": {},
   "outputs": [
    {
     "name": "stdout",
     "output_type": "stream",
     "text": [
      "Area of rectangle: 15\n"
     ]
    }
   ],
   "source": [
    "def calculation_area(length,width):\n",
    "#\"\"\"This function calculates the ares of a rectanngel\"\"\"\n",
    "    area =length*width \n",
    "    return (area) \n",
    "\n",
    "#call the function with parameter and store the result \n",
    "area_of_rectangle= calculation_area(5,3)\n",
    "print(\"Area of rectangle:\", area_of_rectangle)\n",
    "\n",
    "\n"
   ]
  },
  {
   "cell_type": "code",
   "execution_count": 14,
   "id": "bc957f38",
   "metadata": {},
   "outputs": [],
   "source": [
    "def check_number(n):\n",
    "    \"\"\"checks if a number ispositive, negative or \"\"\"\n",
    "    \n",
    "    if n>0: \n",
    "        return \"Positive\"\n",
    "    elif n < 0: \n",
    "        return \"Negative\"\n",
    "    else:\n",
    "        return \"Zero\"\n",
    "    # call the function with an argunent and store the result \n",
    "    result=check"
   ]
  },
  {
   "cell_type": "code",
   "execution_count": 12,
   "id": "04c5ad25",
   "metadata": {},
   "outputs": [
    {
     "name": "stdout",
     "output_type": "stream",
     "text": [
      "8\n"
     ]
    }
   ],
   "source": [
    "#Lambda function or anonyamous function \n",
    "# lambda expression argument \n",
    "add=lambda x, y:x+y\n",
    "#call the lambda function 'add' with arguments 5 and 3 resulting in a 5+3 \n",
    "print(add(5,3))"
   ]
  },
  {
   "cell_type": "code",
   "execution_count": null,
   "id": "fe564bcf",
   "metadata": {},
   "outputs": [],
   "source": [
    "square=lambda x:x * x"
   ]
  },
  {
   "cell_type": "code",
   "execution_count": null,
   "id": "57677af7",
   "metadata": {},
   "outputs": [],
   "source": [
    "# Define a lambda function names 'is-even' that takes one argument x and return is_even =lambda x \n",
    "is_even = lambda x:x % 2== 0\n",
    "print()"
   ]
  },
  {
   "cell_type": "code",
   "execution_count": null,
   "id": "b0e7116f",
   "metadata": {},
   "outputs": [
    {
     "name": "stdout",
     "output_type": "stream",
     "text": [
      "Maximum value in dictionary: 100\n"
     ]
    }
   ],
   "source": [
    "d={\"a\":10,\"b\":15,\"c\":70,\"d\":100}\n",
    "#make a funtion that takes dictionary \n",
    "# return max value from the dictionary\n",
    "def get_max_value(my_dict):\n",
    "    return max(my_dict.values())\n",
    "d = {\"a\": 10, \"b\": 15, \"c\": 70, \"d\": 100}\n",
    "max_value = get_max_value(d)\n",
    "print(\"Maximum value in dictionary:\", max_value)\n"
   ]
  },
  {
   "cell_type": "code",
   "execution_count": null,
   "id": "d920f98a",
   "metadata": {},
   "outputs": [
    {
     "ename": "SyntaxError",
     "evalue": "invalid syntax (2477356262.py, line 9)",
     "output_type": "error",
     "traceback": [
      "  \u001b[36mCell\u001b[39m\u001b[36m \u001b[39m\u001b[32mIn[18]\u001b[39m\u001b[32m, line 9\u001b[39m\n\u001b[31m    \u001b[39m\u001b[31mprint(def)\u001b[39m\n          ^\n\u001b[31mSyntaxError\u001b[39m\u001b[31m:\u001b[39m invalid syntax\n"
     ]
    }
   ],
   "source": [
    "#Factorial \n",
    "def factorial(n):\n",
    "    \"\"\"This function calculates the factorial of a number\"\"\"\n",
    "    if n==0:\n",
    "        return 1\n",
    "    else:\n",
    "        return n * factorial(n-1)\n",
    "    result=factorial(4)\n",
    "    print\n",
    "    "
   ]
  },
  {
   "cell_type": "code",
   "execution_count": 25,
   "id": "ef4363d4",
   "metadata": {},
   "outputs": [
    {
     "name": "stdout",
     "output_type": "stream",
     "text": [
      "5.0\n",
      "list index out of range\n",
      "ok\n"
     ]
    }
   ],
   "source": [
    "#exception is an event that occurs during the execution of a program that disrupts the normal flow of \n",
    "#instructions. exception are raised when errors or exceptional conditions occur\n",
    "# to catch the error \n",
    "# common error type error , \n",
    "\n",
    "try:\n",
    "    #Attemp to perform the division operation \n",
    "    result=10/2\n",
    "    print(result)\n",
    "    lis=[1,2,3]\n",
    "    print(lis[5])\n",
    "except Exception as e:\n",
    "    # if a zero divicion occure , executes this block \n",
    "    print(e)\n",
    "finally:\n",
    "    print('ok')\n"
   ]
  },
  {
   "cell_type": "code",
   "execution_count": null,
   "id": "5c65f860",
   "metadata": {},
   "outputs": [
    {
     "name": "stdout",
     "output_type": "stream",
     "text": [
      "[3, 4, 5, 1, 2, 2]\n"
     ]
    }
   ],
   "source": [
    "\n",
    "#round \n",
    "a=[1,2,3,4,5]\n",
    "r=2\n",
    "a=a[r:]+a[:r]\n",
    "print(a+[r])\n",
    "\n"
   ]
  },
  {
   "cell_type": "code",
   "execution_count": 1,
   "id": "e3cac323",
   "metadata": {},
   "outputs": [
    {
     "name": "stdout",
     "output_type": "stream",
     "text": [
      "{'green', 'blur', 'yellow', 'red'}\n"
     ]
    }
   ],
   "source": [
    "# basic set creation with curly braces\n",
    "colors={'red','green','blur','yellow'}\n",
    "print(colors)\n"
   ]
  },
  {
   "cell_type": "code",
   "execution_count": 2,
   "id": "924dd704",
   "metadata": {},
   "outputs": [
    {
     "name": "stdout",
     "output_type": "stream",
     "text": [
      "{1, 'apple', 3, (1, 2, 3), 14}\n"
     ]
    }
   ],
   "source": [
    "mixrd_set={1,'apple',3,14,(1,2,3),1}\n",
    "print(mixrd_set)"
   ]
  },
  {
   "cell_type": "code",
   "execution_count": null,
   "id": "a711fcf5",
   "metadata": {},
   "outputs": [
    {
     "name": "stdout",
     "output_type": "stream",
     "text": [
      "{1, 2, 3, 4, 5, 6, 7}\n"
     ]
    }
   ],
   "source": [
    "my_set={1,2,3,4,5}\n",
    "#set to update from\n",
    "set_to_update={5,6,7}\n",
    "my_set.update(set_to_update)\n",
    "#printing the result set\n",
    "print(my_set)"
   ]
  },
  {
   "cell_type": "code",
   "execution_count": null,
   "id": "50178d97",
   "metadata": {},
   "outputs": [],
   "source": [
    "#initial set\n",
    "my_set={1,2,4,5,3}\n",
    "#removing the elelement 3 from the set \n",
    "my_set.remove"
   ]
  },
  {
   "cell_type": "code",
   "execution_count": null,
   "id": "d6b96f46",
   "metadata": {},
   "outputs": [],
   "source": [
    "my_set={1,2,3,4,5}\n",
    "popped_element=my_set.pop()\n",
    "print(\"popped element\")"
   ]
  },
  {
   "cell_type": "code",
   "execution_count": 5,
   "id": "cc0cf0d5",
   "metadata": {},
   "outputs": [
    {
     "ename": "SyntaxError",
     "evalue": "invalid syntax (2868204966.py, line 5)",
     "output_type": "error",
     "traceback": [
      "  \u001b[36mCell\u001b[39m\u001b[36m \u001b[39m\u001b[32mIn[5]\u001b[39m\u001b[32m, line 5\u001b[39m\n\u001b[31m    \u001b[39m\u001b[31mprint(\"intersection of set1 and set2\";difference_result)\u001b[39m\n                                         ^\n\u001b[31mSyntaxError\u001b[39m\u001b[31m:\u001b[39m invalid syntax\n"
     ]
    }
   ],
   "source": [
    "#two setss for demonstraion \n",
    "set1={1,2,3}\n",
    "set2={3,4,5} \n",
    "union_result=set1|set2\n",
    "print(\"intersection of set1 and set2\";difference_result)"
   ]
  },
  {
   "cell_type": "code",
   "execution_count": null,
   "id": "280349ef",
   "metadata": {},
   "outputs": [
    {
     "ename": "IndentationError",
     "evalue": "unexpected indent (2003257927.py, line 2)",
     "output_type": "error",
     "traceback": [
      "  \u001b[36mCell\u001b[39m\u001b[36m \u001b[39m\u001b[32mIn[12]\u001b[39m\u001b[32m, line 2\u001b[39m\n\u001b[31m    \u001b[39m\u001b[31m'm2';67,\u001b[39m\n    ^\n\u001b[31mIndentationError\u001b[39m\u001b[31m:\u001b[39m unexpected indent\n"
     ]
    }
   ],
   "source": [
    "m={}'m1';78,\n",
    "   'm2';67,\n",
    "   'm3';56,\n",
    "   'm4';84,\n",
    "   'm5';23,}\n",
    "max_value=max(m.values())\n",
    "for k,v in m,items();\n",
    "if v==max_value;\n",
    " print(k,v)"
   ]
  },
  {
   "cell_type": "code",
   "execution_count": null,
   "id": "3a0ee784",
   "metadata": {},
   "outputs": [],
   "source": [
    "#list comprhesion \n",
    " squares=[for x in ranges(5)]\n",
    " print(squares)"
   ]
  },
  {
   "cell_type": "code",
   "execution_count": null,
   "id": "7e8071b7",
   "metadata": {},
   "outputs": [],
   "source": [
    "list_1=[]\n",
    "for x in range(5):\n",
    "    list_1,append(x**2)\n",
    "    squares=[x**2 for x in range(5)]\n",
    "    print(squares)\n",
    "    cube="
   ]
  },
  {
   "cell_type": "code",
   "execution_count": null,
   "id": "81595b90",
   "metadata": {},
   "outputs": [
    {
     "name": "stdout",
     "output_type": "stream",
     "text": [
      "[0, 4, 16]\n"
     ]
    }
   ],
   "source": [
    "# list comprehension to generate a list of squared vlaues for even numbers and\n",
    "# even_squared=[x**2 f\n",
    "\n",
    "even_squared=[x**2 for x in range (6) if x %2==0]\n",
    "#print the resulting list \n",
    "#orint (even_square_1)\n",
    "print(even_squared)\n",
    "#print the resulting list \n",
    "#print(even_squared_1)\n"
   ]
  },
  {
   "cell_type": "code",
   "execution_count": null,
   "id": "5d14d167",
   "metadata": {},
   "outputs": [],
   "source": [
    "even_squared=[x**2 if x % 2==0 else x**3 for x in range(6)]\n",
    "even_squared_1=[x**2 for x in ranges(6) if x % 2==0]\n",
    "print(even_squared)\n",
    "list_1,append\n",
    "\n",
    "\n"
   ]
  },
  {
   "cell_type": "code",
   "execution_count": null,
   "id": "8dc67c48",
   "metadata": {},
   "outputs": [],
   "source": []
  }
 ],
 "metadata": {
  "kernelspec": {
   "display_name": "Python 3",
   "language": "python",
   "name": "python3"
  },
  "language_info": {
   "codemirror_mode": {
    "name": "ipython",
    "version": 3
   },
   "file_extension": ".py",
   "mimetype": "text/x-python",
   "name": "python",
   "nbconvert_exporter": "python",
   "pygments_lexer": "ipython3",
   "version": "3.12.10"
  }
 },
 "nbformat": 4,
 "nbformat_minor": 5
}
